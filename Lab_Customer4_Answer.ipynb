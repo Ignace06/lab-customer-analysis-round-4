{
 "cells": [
  {
   "cell_type": "code",
   "execution_count": null,
   "id": "1d6dc5c9",
   "metadata": {},
   "outputs": [],
   "source": [
    "import pandas as pd \n",
    "import numpy as np\n",
    "import matplotlib.pyplot as plt\n",
    "import seaborn as sns"
   ]
  },
  {
   "cell_type": "code",
   "execution_count": null,
   "id": "cfd48114",
   "metadata": {},
   "outputs": [],
   "source": [
    "# For this lab, we still keep using the `marketing_customer_analysis.csv` file. You can find the file in the `files_for_lab` folder.\n",
    "file1 = pd.read_csv(\"C:/Users/igrav/Desktop/ironhack/Lecture/Week_1/Day3/AP/lab-customer-analysis-round-3-master/files_for_lab/csv_files/marketing_customer_analysis.csv\")\n",
    "file1.head(3)"
   ]
  },
  {
   "cell_type": "code",
   "execution_count": null,
   "id": "9b2bfa3f",
   "metadata": {},
   "outputs": [],
   "source": [
    "# Check the data types of the columns. Get the numeric data into dataframe called `numerical` and categorical columns in a dataframe called `categoricals`.\n",
    "\n",
    "column_names = file1.columns\n",
    "file1.dtypes\n",
    "numerical = file1.select_dtypes([\"int\", \"float\"])\n",
    "numerical\n",
    "# categoricals = file1.select_dtypes([\"object\"])\n",
    "# categoricals"
   ]
  },
  {
   "cell_type": "code",
   "execution_count": null,
   "id": "375853ba",
   "metadata": {},
   "outputs": [],
   "source": [
    "#- Now we will try to check the normality of the numerical variables visually\n",
    "#   - Use seaborn library to construct distribution plots for the numerical variables\n",
    "sns.displot(file1[\"Income\"])\n",
    "sns.displot(file1[\"Customer Lifetime Value\"])\n",
    "\n",
    "plt.show()"
   ]
  },
  {
   "cell_type": "code",
   "execution_count": null,
   "id": "032ba802",
   "metadata": {},
   "outputs": [],
   "source": [
    "# Use Matplotlib to construct histograms\n",
    "fig = plt.hist(x=file1['Income'])\n"
   ]
  },
  {
   "cell_type": "code",
   "execution_count": null,
   "id": "661b0c8e",
   "metadata": {},
   "outputs": [],
   "source": [
    "fig = plt.hist(x=file1[\"Number of Open Complaints\"])\n"
   ]
  },
  {
   "cell_type": "code",
   "execution_count": null,
   "id": "ab527255",
   "metadata": {},
   "outputs": [],
   "source": [
    "# Do the distributions for different numerical variables look like a normal distribution \n",
    "### None of them have a normal distribution\n"
   ]
  },
  {
   "cell_type": "code",
   "execution_count": null,
   "id": "c670df22",
   "metadata": {},
   "outputs": [],
   "source": [
    "# For the numerical variables, check the multicollinearity between the features. \n",
    "# Please note that we will use the column `total_claim_amount` later as the target variable. \n",
    "from sklearn import linear_model\n",
    "from sklearn.metrics import mean_squared_error\n",
    "\n",
    "lm = linear_model.LinearRegression()\n",
    "correlations_matrix = numerical.corr()\n",
    "sns.heatmap(correlations_matrix, annot=True)\n",
    "plt.show()"
   ]
  },
  {
   "cell_type": "code",
   "execution_count": null,
   "id": "77e5f449",
   "metadata": {},
   "outputs": [],
   "source": [
    "### Between 2 inputs variables, only \"Customer Lifetime Value\" & \"Monthly premium Auto\" has a +0.4 correlation? the remaining is neglecting"
   ]
  },
  {
   "cell_type": "code",
   "execution_count": null,
   "id": "31abd422",
   "metadata": {},
   "outputs": [],
   "source": [
    "# Drop one of the two features that show a high correlation between them (greater than 0.9). Write code for both the correlation matrix and for seaborn heatmap. If there is no pair of features that have a high correlation, then do not drop any features\n",
    "### As said before no strong correlation between any inputs variables"
   ]
  },
  {
   "cell_type": "code",
   "execution_count": null,
   "id": "a1cd679d",
   "metadata": {},
   "outputs": [],
   "source": []
  },
  {
   "cell_type": "code",
   "execution_count": null,
   "id": "b59e790e",
   "metadata": {},
   "outputs": [],
   "source": []
  }
 ],
 "metadata": {
  "kernelspec": {
   "display_name": "Python 3 (ipykernel)",
   "language": "python",
   "name": "python3"
  },
  "language_info": {
   "codemirror_mode": {
    "name": "ipython",
    "version": 3
   },
   "file_extension": ".py",
   "mimetype": "text/x-python",
   "name": "python",
   "nbconvert_exporter": "python",
   "pygments_lexer": "ipython3",
   "version": "3.9.7"
  }
 },
 "nbformat": 4,
 "nbformat_minor": 5
}
